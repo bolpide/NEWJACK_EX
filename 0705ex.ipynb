{
  "nbformat": 4,
  "nbformat_minor": 0,
  "metadata": {
    "colab": {
      "name": "0705ex.ipynb",
      "provenance": [],
      "collapsed_sections": [],
      "authorship_tag": "ABX9TyN+0wh+2QWwjOsnqnZnQ4Ta",
      "include_colab_link": true
    },
    "kernelspec": {
      "name": "python3",
      "display_name": "Python 3"
    },
    "language_info": {
      "name": "python"
    },
    "gpuClass": "standard"
  },
  "cells": [
    {
      "cell_type": "markdown",
      "metadata": {
        "id": "view-in-github",
        "colab_type": "text"
      },
      "source": [
        "<a href=\"https://colab.research.google.com/github/bolpide/NEWJACK_EX/blob/main/0705ex.ipynb\" target=\"_parent\"><img src=\"https://colab.research.google.com/assets/colab-badge.svg\" alt=\"Open In Colab\"/></a>"
      ]
    },
    {
      "cell_type": "code",
      "execution_count": null,
      "metadata": {
        "id": "zGU8UYYUukeL",
        "colab": {
          "base_uri": "https://localhost:8080/"
        },
        "outputId": "ca4a299f-c111-45eb-fc2d-3a9516d68929"
      },
      "outputs": [
        {
          "output_type": "stream",
          "name": "stdout",
          "text": [
            "hellow world!!\n"
          ]
        }
      ],
      "source": [
        "print(\"hellow world!!\")"
      ]
    },
    {
      "cell_type": "markdown",
      "source": [
        "1) mupy 샘플코드\n",
        "$y=ax+b$ \n"
      ],
      "metadata": {
        "id": "DVZe-DwbzLEQ"
      }
    },
    {
      "cell_type": "code",
      "source": [
        "import numpy as np\n",
        "\n",
        "x = np.array([[1,2,3],[4,5,6]])\n",
        "print(\"x:\\n\" , x)"
      ],
      "metadata": {
        "colab": {
          "base_uri": "https://localhost:8080/"
        },
        "id": "MOWEo8lTzX_p",
        "outputId": "b38ec5e4-b6b7-461c-9893-d398084ade5c"
      },
      "execution_count": null,
      "outputs": [
        {
          "output_type": "stream",
          "name": "stdout",
          "text": [
            "x:\n",
            " [[1 2 3]\n",
            " [4 5 6]]\n"
          ]
        }
      ]
    },
    {
      "cell_type": "markdown",
      "source": [
        "2) Scipy 샘플코드"
      ],
      "metadata": {
        "id": "-pKymRkX53t6"
      }
    },
    {
      "cell_type": "code",
      "source": [
        "from scipy import sparse\n",
        "#대각선 원소는 1이고 나마지는 0인 2차원 num파일 배열을 만듦\n",
        "eye = np.eye(4)\n",
        "print(\"numpy 배열:\\n\",eye)"
      ],
      "metadata": {
        "colab": {
          "base_uri": "https://localhost:8080/"
        },
        "id": "m4Zi-yDo1UCq",
        "outputId": "db86a895-00fb-4ad7-c784-1c191fac2559"
      },
      "execution_count": null,
      "outputs": [
        {
          "output_type": "stream",
          "name": "stdout",
          "text": [
            "numpy 배열:\n",
            " [[1. 0. 0. 0.]\n",
            " [0. 1. 0. 0.]\n",
            " [0. 0. 1. 0.]\n",
            " [0. 0. 0. 1.]]\n"
          ]
        }
      ]
    },
    {
      "cell_type": "code",
      "source": [
        "sparse_matrix = sparse.csr_matrix(eye)\n",
        "print(\"scipy의 csr행렬: \\n\",sparse_matrix )\n",
        "\n",
        "data = np.ones(4)\n"
      ],
      "metadata": {
        "colab": {
          "base_uri": "https://localhost:8080/"
        },
        "id": "MEhiibuD6lD6",
        "outputId": "bdc531ef-7a4a-44de-cfc7-9aee3def3965"
      },
      "execution_count": null,
      "outputs": [
        {
          "output_type": "stream",
          "name": "stdout",
          "text": [
            "scipy의 csr행렬: \n",
            "   (0, 0)\t1.0\n",
            "  (1, 1)\t1.0\n",
            "  (2, 2)\t1.0\n",
            "  (3, 3)\t1.0\n"
          ]
        }
      ]
    },
    {
      "cell_type": "code",
      "source": [
        "data = np.ones(4)\n",
        "row_indices = np.arange(4)\n",
        "col_indices = np.arange(4)\n",
        "eye_coo = sparse.coo_matrix((data,(row_indices,col_indices)))\n",
        "\n",
        "print(\"coo표현:\\:n\", eye_coo)"
      ],
      "metadata": {
        "colab": {
          "base_uri": "https://localhost:8080/"
        },
        "id": "nv2fK4zg8wLS",
        "outputId": "fc818992-128c-4a85-b1a6-3b9f5666329b"
      },
      "execution_count": null,
      "outputs": [
        {
          "output_type": "stream",
          "name": "stdout",
          "text": [
            "coo표현:\\:n   (0, 0)\t1.0\n",
            "  (1, 1)\t1.0\n",
            "  (2, 2)\t1.0\n",
            "  (3, 3)\t1.0\n"
          ]
        }
      ]
    },
    {
      "cell_type": "code",
      "source": [
        "import matplotlib.pyplot as plt\n",
        "x= np.linspace(-10,10,100)\n",
        "y = np.sin(x)\n",
        "plt.plot(x.y.maker = 'x')\n",
        "plt.show()"
      ],
      "metadata": {
        "colab": {
          "base_uri": "https://localhost:8080/",
          "height": 137
        },
        "id": "x2vDj3GH9ijK",
        "outputId": "55a5a297-1fbb-415d-efbc-1843a5ce5601"
      },
      "execution_count": null,
      "outputs": [
        {
          "output_type": "error",
          "ename": "SyntaxError",
          "evalue": "ignored",
          "traceback": [
            "\u001b[0;36m  File \u001b[0;32m\"<ipython-input-40-c92d85189b44>\"\u001b[0;36m, line \u001b[0;32m4\u001b[0m\n\u001b[0;31m    plt.plot(x.y.sin = 'x')\u001b[0m\n\u001b[0m            ^\u001b[0m\n\u001b[0;31mSyntaxError\u001b[0m\u001b[0;31m:\u001b[0m keyword can't be an expression\n"
          ]
        }
      ]
    },
    {
      "cell_type": "markdown",
      "source": [
        ""
      ],
      "metadata": {
        "id": "oDgA5oOS-mdp"
      }
    },
    {
      "cell_type": "markdown",
      "source": [
        "4) pandas 샘플코드"
      ],
      "metadata": {
        "id": "kdIszoOc-tWJ"
      }
    },
    {
      "cell_type": "code",
      "source": [
        "import pandas as pd\n",
        "\n",
        "data = {'Name':[\"Jhon\",\"Anna\",\"Peter\",\"Linda\"],\n",
        "      'Location':[\"N.Y\",\"Paris\",\"Berlin\",\"London\"],\n",
        "      'Age':[24,12,35,35]\n",
        "}\n",
        "\n",
        "data_pandas = pd.DataFrame(data)\n",
        "\n",
        "from IPython.display import display\n",
        "\n",
        "display(data_pandas)\n"
      ],
      "metadata": {
        "colab": {
          "base_uri": "https://localhost:8080/",
          "height": 175
        },
        "id": "E_AmQkXX-rCp",
        "outputId": "3eef03b8-7d64-4abc-806c-606d212f2357"
      },
      "execution_count": null,
      "outputs": [
        {
          "output_type": "display_data",
          "data": {
            "text/plain": [
              "    Name Location  Age\n",
              "0   Jhon      N.Y   24\n",
              "1   Anna    Paris   12\n",
              "2  Peter   Berlin   35\n",
              "3  Linda   London   35"
            ],
            "text/html": [
              "\n",
              "  <div id=\"df-e4d45458-4772-4cef-bb20-72388f328b4d\">\n",
              "    <div class=\"colab-df-container\">\n",
              "      <div>\n",
              "<style scoped>\n",
              "    .dataframe tbody tr th:only-of-type {\n",
              "        vertical-align: middle;\n",
              "    }\n",
              "\n",
              "    .dataframe tbody tr th {\n",
              "        vertical-align: top;\n",
              "    }\n",
              "\n",
              "    .dataframe thead th {\n",
              "        text-align: right;\n",
              "    }\n",
              "</style>\n",
              "<table border=\"1\" class=\"dataframe\">\n",
              "  <thead>\n",
              "    <tr style=\"text-align: right;\">\n",
              "      <th></th>\n",
              "      <th>Name</th>\n",
              "      <th>Location</th>\n",
              "      <th>Age</th>\n",
              "    </tr>\n",
              "  </thead>\n",
              "  <tbody>\n",
              "    <tr>\n",
              "      <th>0</th>\n",
              "      <td>Jhon</td>\n",
              "      <td>N.Y</td>\n",
              "      <td>24</td>\n",
              "    </tr>\n",
              "    <tr>\n",
              "      <th>1</th>\n",
              "      <td>Anna</td>\n",
              "      <td>Paris</td>\n",
              "      <td>12</td>\n",
              "    </tr>\n",
              "    <tr>\n",
              "      <th>2</th>\n",
              "      <td>Peter</td>\n",
              "      <td>Berlin</td>\n",
              "      <td>35</td>\n",
              "    </tr>\n",
              "    <tr>\n",
              "      <th>3</th>\n",
              "      <td>Linda</td>\n",
              "      <td>London</td>\n",
              "      <td>35</td>\n",
              "    </tr>\n",
              "  </tbody>\n",
              "</table>\n",
              "</div>\n",
              "      <button class=\"colab-df-convert\" onclick=\"convertToInteractive('df-e4d45458-4772-4cef-bb20-72388f328b4d')\"\n",
              "              title=\"Convert this dataframe to an interactive table.\"\n",
              "              style=\"display:none;\">\n",
              "        \n",
              "  <svg xmlns=\"http://www.w3.org/2000/svg\" height=\"24px\"viewBox=\"0 0 24 24\"\n",
              "       width=\"24px\">\n",
              "    <path d=\"M0 0h24v24H0V0z\" fill=\"none\"/>\n",
              "    <path d=\"M18.56 5.44l.94 2.06.94-2.06 2.06-.94-2.06-.94-.94-2.06-.94 2.06-2.06.94zm-11 1L8.5 8.5l.94-2.06 2.06-.94-2.06-.94L8.5 2.5l-.94 2.06-2.06.94zm10 10l.94 2.06.94-2.06 2.06-.94-2.06-.94-.94-2.06-.94 2.06-2.06.94z\"/><path d=\"M17.41 7.96l-1.37-1.37c-.4-.4-.92-.59-1.43-.59-.52 0-1.04.2-1.43.59L10.3 9.45l-7.72 7.72c-.78.78-.78 2.05 0 2.83L4 21.41c.39.39.9.59 1.41.59.51 0 1.02-.2 1.41-.59l7.78-7.78 2.81-2.81c.8-.78.8-2.07 0-2.86zM5.41 20L4 18.59l7.72-7.72 1.47 1.35L5.41 20z\"/>\n",
              "  </svg>\n",
              "      </button>\n",
              "      \n",
              "  <style>\n",
              "    .colab-df-container {\n",
              "      display:flex;\n",
              "      flex-wrap:wrap;\n",
              "      gap: 12px;\n",
              "    }\n",
              "\n",
              "    .colab-df-convert {\n",
              "      background-color: #E8F0FE;\n",
              "      border: none;\n",
              "      border-radius: 50%;\n",
              "      cursor: pointer;\n",
              "      display: none;\n",
              "      fill: #1967D2;\n",
              "      height: 32px;\n",
              "      padding: 0 0 0 0;\n",
              "      width: 32px;\n",
              "    }\n",
              "\n",
              "    .colab-df-convert:hover {\n",
              "      background-color: #E2EBFA;\n",
              "      box-shadow: 0px 1px 2px rgba(60, 64, 67, 0.3), 0px 1px 3px 1px rgba(60, 64, 67, 0.15);\n",
              "      fill: #174EA6;\n",
              "    }\n",
              "\n",
              "    [theme=dark] .colab-df-convert {\n",
              "      background-color: #3B4455;\n",
              "      fill: #D2E3FC;\n",
              "    }\n",
              "\n",
              "    [theme=dark] .colab-df-convert:hover {\n",
              "      background-color: #434B5C;\n",
              "      box-shadow: 0px 1px 3px 1px rgba(0, 0, 0, 0.15);\n",
              "      filter: drop-shadow(0px 1px 2px rgba(0, 0, 0, 0.3));\n",
              "      fill: #FFFFFF;\n",
              "    }\n",
              "  </style>\n",
              "\n",
              "      <script>\n",
              "        const buttonEl =\n",
              "          document.querySelector('#df-e4d45458-4772-4cef-bb20-72388f328b4d button.colab-df-convert');\n",
              "        buttonEl.style.display =\n",
              "          google.colab.kernel.accessAllowed ? 'block' : 'none';\n",
              "\n",
              "        async function convertToInteractive(key) {\n",
              "          const element = document.querySelector('#df-e4d45458-4772-4cef-bb20-72388f328b4d');\n",
              "          const dataTable =\n",
              "            await google.colab.kernel.invokeFunction('convertToInteractive',\n",
              "                                                     [key], {});\n",
              "          if (!dataTable) return;\n",
              "\n",
              "          const docLinkHtml = 'Like what you see? Visit the ' +\n",
              "            '<a target=\"_blank\" href=https://colab.research.google.com/notebooks/data_table.ipynb>data table notebook</a>'\n",
              "            + ' to learn more about interactive tables.';\n",
              "          element.innerHTML = '';\n",
              "          dataTable['output_type'] = 'display_data';\n",
              "          await google.colab.output.renderOutput(dataTable, element);\n",
              "          const docLink = document.createElement('div');\n",
              "          docLink.innerHTML = docLinkHtml;\n",
              "          element.appendChild(docLink);\n",
              "        }\n",
              "      </script>\n",
              "    </div>\n",
              "  </div>\n",
              "  "
            ]
          },
          "metadata": {}
        }
      ]
    },
    {
      "cell_type": "code",
      "source": [
        "def sum(a,b):\n",
        "    return a+b\n",
        "x = 10.0\n",
        "y = 20.0\n",
        "print(\"%.1f + %.1f = %.1f\" %(x,y,sum(x,y))  )"
      ],
      "metadata": {
        "id": "Yak25UZsAWpC",
        "colab": {
          "base_uri": "https://localhost:8080/"
        },
        "outputId": "48070aa0-9cb0-47fa-8027-a75c5c9da012"
      },
      "execution_count": 4,
      "outputs": [
        {
          "output_type": "stream",
          "name": "stdout",
          "text": [
            "10.0 + 20.0 = 30.0\n"
          ]
        }
      ]
    },
    {
      "cell_type": "markdown",
      "source": [
        "※ 리스트에 관한 문법"
      ],
      "metadata": {
        "id": "Ap1IKBO12oDX"
      }
    },
    {
      "cell_type": "code",
      "source": [
        "a= []\n",
        "b=[1,2,3]\n",
        "c = [\"Hello\",\",\",\"world\"]\n",
        "d = [1,2,3,\"x\",\"y\",\"z\"]\n",
        "x= []\n",
        "print(x)\n",
        "x.append('a')\n",
        "print(x)\n",
        "x.append(123)\n",
        "print(x)\n",
        "x.append([\"a\",\"b\"])\n",
        "print(x)"
      ],
      "metadata": {
        "colab": {
          "base_uri": "https://localhost:8080/"
        },
        "id": "DxtdjBHhx3gB",
        "outputId": "160894c5-1713-47bf-b2f4-936abb9482e2"
      },
      "execution_count": 5,
      "outputs": [
        {
          "output_type": "stream",
          "name": "stdout",
          "text": [
            "[]\n",
            "['a']\n",
            "['a', 123]\n",
            "['a', 123, ['a', 'b']]\n"
          ]
        }
      ]
    },
    {
      "cell_type": "markdown",
      "source": [
        "※ 딕셔너리 문법"
      ],
      "metadata": {
        "id": "4L55zj-22-gX"
      }
    },
    {
      "cell_type": "code",
      "source": [
        "dic = dict()\n",
        "dic[\"name\"] =\"hyoseok\"\n",
        "dic[\"town\"] = \"Seoul City\"\n",
        "dic[\"job\"] = \"AIStudent\"\n",
        "print (dic)"
      ],
      "metadata": {
        "colab": {
          "base_uri": "https://localhost:8080/"
        },
        "id": "3NaMRJM_29vA",
        "outputId": "1ef41b6c-366a-4082-ae00-8340490b0ea0"
      },
      "execution_count": 8,
      "outputs": [
        {
          "output_type": "stream",
          "name": "stdout",
          "text": [
            "{'name': 'hyoseok', 'town': 'Seoul City', 'job': 'AIStudent'}\n"
          ]
        }
      ]
    },
    {
      "cell_type": "markdown",
      "source": [
        "※ "
      ],
      "metadata": {
        "id": "dtgzFasR4UEI"
      }
    },
    {
      "cell_type": "code",
      "source": [
        ""
      ],
      "metadata": {
        "id": "3olBmlYH3mvX"
      },
      "execution_count": null,
      "outputs": []
    }
  ]
}